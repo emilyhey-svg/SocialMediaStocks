{
  "cells": [
    {
      "cell_type": "code",
      "execution_count": 87,
      "metadata": {
        "colab": {
          "base_uri": "https://localhost:8080/"
        },
        "id": "ZmuDULcks8b9",
        "outputId": "189aabdb-4989-4683-e82b-90b48fa53869"
      },
      "outputs": [
        {
          "name": "stdout",
          "output_type": "stream",
          "text": [
            "Path to dataset files: /kaggle/input/tweets-and-user-engagement\n",
            "Index(['index', 'TweetID', 'Weekday', 'Hour', 'Day', 'Lang', 'IsReshare',\n",
            "       'Reach', 'RetweetCount', 'Likes', 'Klout', 'Sentiment', 'text',\n",
            "       'LocationID', 'UserID'],\n",
            "      dtype='object')\n"
          ]
        },
        {
          "name": "stderr",
          "output_type": "stream",
          "text": [
            "<ipython-input-87-ee504f83b9df>:12: DtypeWarning: Columns (3,4,5,6,12,14) have mixed types. Specify dtype option on import or set low_memory=False.\n",
            "  df_twitter = pd.read_csv(file_path)\n"
          ]
        }
      ],
      "source": [
        "# Load Twitter dataset (from Kaggle)\n",
        "import kagglehub\n",
        "import pandas as pd\n",
        "\n",
        "# Download latest version\n",
        "path = kagglehub.dataset_download(\"thedevastator/tweets-and-user-engagement\")\n",
        "\n",
        "print(\"Path to dataset files:\", path)\n",
        "# source: https://www.kaggle.com/datasets/thedevastator/tweets-and-user-engagement\n",
        "\n",
        "file_path = '/root/.cache/kagglehub/datasets/thedevastator/tweets-and-user-engagement/versions/2/Twitterdatainsheets.csv'\n",
        "df_twitter = pd.read_csv(file_path)\n",
        "\n",
        "df_twitter.columns = df_twitter.columns.str.strip()\n",
        "weekday_col = 'Weekday'\n",
        "hour_col = 'Hour'\n",
        "day_col = 'Day'\n",
        "month_col = 'Month'\n",
        "\n",
        "print(df_twitter.columns)"
      ]
    },
    {
      "cell_type": "code",
      "execution_count": 88,
      "metadata": {
        "colab": {
          "base_uri": "https://localhost:8080/"
        },
        "id": "ribxwHyt1Jlj",
        "outputId": "78a1a98b-cbfb-469f-d68a-fa90495adc13"
      },
      "outputs": [
        {
          "name": "stdout",
          "output_type": "stream",
          "text": [
            "Month\n",
            "1    33695\n",
            "2    30435\n",
            "3    33696\n",
            "4     2174\n",
            "Name: count, dtype: int64\n",
            "                      timestamp        date\n",
            "29408 2016-01-01 00:00:00+00:00  2016-01-01\n",
            "97    2016-01-01 00:00:00+00:00  2016-01-01\n",
            "98    2016-01-01 00:00:00+00:00  2016-01-01\n",
            "99    2016-01-01 00:00:00+00:00  2016-01-01\n",
            "100   2016-01-01 00:00:00+00:00  2016-01-01\n"
          ]
        }
      ],
      "source": [
        "# Map weekday names to numbers (Monday=0, Sunday=6)\n",
        "weekday_map = {'Monday':0, 'Tuesday':1, 'Wednesday':2, 'Thursday':3, 'Friday':4, 'Saturday':5, 'Sunday':6}\n",
        "df_twitter[day_col] = pd.to_numeric(df_twitter[day_col], errors='coerce')\n",
        "df_twitter.dropna(subset=[day_col], inplace=True)\n",
        "df_twitter[day_col] = df_twitter[day_col].astype(int)\n",
        "df_twitter[hour_col] = df_twitter[hour_col].astype(int)\n",
        "\n",
        "n = len(df_twitter)\n",
        "\n",
        "jan_end_idx = int(n * (31/92))   # Jan 31 is day 31 out of 92 days total\n",
        "feb_end_idx = int(n * (59/92))   # Feb 28 is day 59\n",
        "mar_end_idx = int(n * (90/92))   # Mar 31 is day 90\n",
        "\n",
        "df_twitter['Month'] = 0\n",
        "\n",
        "# df_twitter = df_twitter.reset_index(drop=True)  # reset index to ensure iloc works correctly\n",
        "\n",
        "df_twitter.iloc[:jan_end_idx, df_twitter.columns.get_loc('Month')] = 1\n",
        "df_twitter.iloc[jan_end_idx:feb_end_idx, df_twitter.columns.get_loc('Month')] = 2\n",
        "df_twitter.iloc[feb_end_idx:mar_end_idx, df_twitter.columns.get_loc('Month')] = 3\n",
        "df_twitter.iloc[mar_end_idx:, df_twitter.columns.get_loc('Month')] = 4\n",
        "\n",
        "print(df_twitter['Month'].value_counts().sort_index())\n",
        "\n",
        "# data is from beginning of 2016 to april 2016 only\n",
        "year = 2016\n",
        "\n",
        "days_in_month = {1: 31, 2: 29, 3: 31, 4: 30}\n",
        "\n",
        "df_twitter = df_twitter[\n",
        "    df_twitter.apply(lambda row: row[day_col] <= days_in_month.get(row['Month'], 0), axis=1)\n",
        "].copy()\n",
        "\n",
        "# df_twitter = df_twitter[df_twitter[day_col] <= 30].copy()\n",
        "\n",
        "df_twitter['timestamp'] = pd.to_datetime({'year': year, 'month': df_twitter['Month'].astype(int), 'day': df_twitter[day_col], 'hour': df_twitter[hour_col]})\n",
        "df_twitter['date'] = df_twitter['timestamp'].dt.date\n",
        "df_twitter = df_twitter.dropna(subset=['timestamp'])\n",
        "\n",
        "df_twitter['timestamp'] = pd.to_datetime(df_twitter['timestamp'], errors='coerce', utc=True)\n",
        "df_twitter = df_twitter.sort_values('timestamp')\n",
        "\n",
        "df_twitter['date'] = df_twitter['timestamp'].dt.date\n",
        "\n",
        "print(df_twitter[['timestamp', 'date']].head())\n",
        "\n",
        "# print(df_twitter.head())"
      ]
    },
    {
      "cell_type": "code",
      "execution_count": 89,
      "metadata": {
        "colab": {
          "base_uri": "https://localhost:8080/"
        },
        "id": "ANQNsKIsriLu",
        "outputId": "a54969b4-0a4f-4f9c-accd-9c462ae2754f"
      },
      "outputs": [
        {
          "name": "stdout",
          "output_type": "stream",
          "text": [
            "Twitter dataset covers from 2016-01-01 to 2016-04-02\n"
          ]
        }
      ],
      "source": [
        "start_date = df_twitter['date'].min()\n",
        "end_date = df_twitter['date'].max()\n",
        "\n",
        "print(f\"Twitter dataset covers from {start_date} to {end_date}\")"
      ]
    },
    {
      "cell_type": "code",
      "execution_count": null,
      "metadata": {
        "colab": {
          "base_uri": "https://localhost:8080/"
        },
        "id": "IgXjiP7Kq8Rf",
        "outputId": "8cf783cb-fc37-4265-ac8e-d2659f05af8e"
      },
      "outputs": [
        {
          "name": "stderr",
          "output_type": "stream",
          "text": [
            "\r[*********************100%***********************]  1 of 1 completed"
          ]
        },
        {
          "name": "stdout",
          "output_type": "stream",
          "text": [
            "Price             Close      Volume         MA_5 MA_20 RSI           OBV  \\\n",
            "Ticker            ^IXIC       ^IXIC                                        \n",
            "Date                                                                       \n",
            "2016-01-04  4903.089844  2218420000          NaN   NaN NaN           NaN   \n",
            "2016-01-05  4891.430176  1927380000          NaN   NaN NaN -1.927380e+09   \n",
            "2016-01-06  4835.759766  2168620000          NaN   NaN NaN -4.096000e+09   \n",
            "2016-01-07  4689.430176  2552590000          NaN   NaN NaN -6.648590e+09   \n",
            "2016-01-08  4643.629883  2288750000  4792.667969   NaN NaN -8.937340e+09   \n",
            "2016-01-11  4637.990234  2391110000  4739.648047   NaN NaN -1.132845e+10   \n",
            "2016-01-12  4685.919922  2147470000  4698.545996   NaN NaN -9.180980e+09   \n",
            "2016-01-13  4526.060059  2533200000  4636.606055   NaN NaN -1.171418e+10   \n",
            "2016-01-14  4615.000000  2565560000  4621.720020   NaN NaN -9.148620e+09   \n",
            "2016-01-15  4488.419922  2818630000  4590.678027   NaN NaN -1.196725e+10   \n",
            "\n",
            "Price      Volatility Lag1_Return Next_Day_Up  \n",
            "Ticker                                         \n",
            "Date                                           \n",
            "2016-01-04        NaN         NaN           0  \n",
            "2016-01-05        NaN         NaN           0  \n",
            "2016-01-06        NaN   -0.002378           0  \n",
            "2016-01-07        NaN   -0.011381           0  \n",
            "2016-01-08        NaN   -0.030260           0  \n",
            "2016-01-11        NaN   -0.009767           1  \n",
            "2016-01-12        NaN   -0.001214           0  \n",
            "2016-01-13        NaN    0.010334           1  \n",
            "2016-01-14        NaN   -0.034115           0  \n",
            "2016-01-15        NaN    0.019651           0  \n",
            "\n",
            "Shape Train Data\n"
          ]
        },
        {
          "name": "stderr",
          "output_type": "stream",
          "text": [
            "\n"
          ]
        }
      ],
      "source": [
        "import yfinance as yf\n",
        "import numpy as np\n",
        "from sklearn.model_selection import train_test_split, GridSearchCV\n",
        "from sklearn.preprocessing import StandardScaler\n",
        "from sklearn.metrics import confusion_matrix, accuracy_score, precision_score, recall_score, f1_score\n",
        "import seaborn as sns\n",
        "import matplotlib.pyplot as plt\n",
        "from sklearn.neighbors import KNeighborsClassifier\n",
        "\n",
        "# Load and prepare data with additional features\n",
        "nasdaq = yf.download('^IXIC', start='2016-01-01', end='2016-04-30', interval='1d')\n",
        "data = nasdaq[['Close', 'Volume']].copy()\n",
        "\n",
        "# Compute features\n",
        "data['MA_5'] = data['Close'].rolling(window=5).mean()\n",
        "data['MA_20'] = data['Close'].rolling(window=20).mean()\n",
        "data['RSI'] = 100 - (100 / (1 + (data['Close'].diff().rolling(window=14).mean() / (data['Close'].diff().rolling(window=14).std() + 1e-10))))\n",
        "data['OBV'] = (np.sign(data['Close'].diff()) * data['Volume']).cumsum()\n",
        "data['Volatility'] = data['Close'].pct_change().rolling(window=14).std()  # 14-day volatility\n",
        "data['Lag1_Return'] = data['Close'].pct_change().shift(1)  # Lagged return (1 day)\n",
        "data['Next_Day_Up'] = (data['Close'].shift(-1) > data['Close']).astype(int)\n",
        "\n",
        "print(data.head(10))\n",
        "print(\"\\nShape Train Data\")"
      ]
    },
    {
      "cell_type": "code",
      "execution_count": 101,
      "metadata": {
        "colab": {
          "base_uri": "https://localhost:8080/"
        },
        "id": "6U18s0VN3eEc",
        "outputId": "b17cfe8d-a008-4467-9976-d6dea123e406"
      },
      "outputs": [
        {
          "name": "stdout",
          "output_type": "stream",
          "text": [
            "Index(['level_0', 'index', 'date', 'Close_^IXIC', 'Volume_^IXIC', 'MA_5',\n",
            "       'MA_20', 'RSI', 'OBV', 'Volatility', 'Lag1_Return', 'Next_Day_Up'],\n",
            "      dtype='object')\n",
            "Index(['level_0', 'index', 'date', 'Close_^IXIC', 'Volume_^IXIC', 'MA_5',\n",
            "       'MA_20', 'RSI', 'OBV', 'Volatility', 'Lag1_Return', 'Next_Day_Up'],\n",
            "      dtype='object')\n",
            "   level_0  index_x       date  Close_^IXIC  Volume_^IXIC  MA_5  MA_20  RSI  \\\n",
            "0        0        0 2016-01-04  4903.089844    2218420000   NaN    NaN  NaN   \n",
            "1        0        0 2016-01-04  4903.089844    2218420000   NaN    NaN  NaN   \n",
            "2        0        0 2016-01-04  4903.089844    2218420000   NaN    NaN  NaN   \n",
            "3        0        0 2016-01-04  4903.089844    2218420000   NaN    NaN  NaN   \n",
            "4        0        0 2016-01-04  4903.089844    2218420000   NaN    NaN  NaN   \n",
            "\n",
            "   OBV  Volatility  ...  Reach  RetweetCount  Likes Klout Sentiment  \\\n",
            "0  NaN         NaN  ...  528.0           0.0    0.0  43.0       1.5   \n",
            "1  NaN         NaN  ...   21.0          61.0    0.0  16.0       0.0   \n",
            "2  NaN         NaN  ...   15.0           0.0    0.0  12.0       0.0   \n",
            "3  NaN         NaN  ...  832.0           0.0    0.0  42.0       0.0   \n",
            "4  NaN         NaN  ...   64.0           0.0    0.0  34.0       1.0   \n",
            "\n",
            "                                                text  LocationID  \\\n",
            "0  https://adore.fm is now HTTPS only thanks to n...      1663.0   \n",
            "1  RT @ExpeditedSSL: AWS in Plain English - expla...      3786.0   \n",
            "2                                   @ritika_offl aws      1445.0   \n",
            "3  Array Networks Makes Virtual SSL VPN Available...      1332.0   \n",
            "4  Will @qualys develop a mobile app? With such a...      3019.0   \n",
            "\n",
            "          UserID Month                 timestamp  \n",
            "0    tw-16447855     1 2016-01-04 00:00:00+00:00  \n",
            "1  tw-1524092881     1 2016-01-04 00:00:00+00:00  \n",
            "2  tw-1971504792     1 2016-01-04 00:00:00+00:00  \n",
            "3   tw-533917622     1 2016-01-04 00:00:00+00:00  \n",
            "4    tw-86228170     1 2016-01-04 00:00:00+00:00  \n",
            "\n",
            "[5 rows x 29 columns]\n"
          ]
        }
      ],
      "source": [
        "# Flatten MultiIndex columns if they exist\n",
        "if isinstance(data.columns, pd.MultiIndex):\n",
        "    data.columns = ['_'.join(filter(None, col)).strip() for col in data.columns]\n",
        "\n",
        "data = data.rename(columns={'Date': 'date'})\n",
        "data['date'] = pd.to_datetime(data['date'])\n",
        "\n",
        "df_twitter['date'] = pd.to_datetime(df_twitter['date'])\n",
        "\n",
        "print(data.columns)\n",
        "\n",
        "merged_df = pd.merge(data, df_twitter, on='date', how='inner')\n",
        "\n",
        "print(data.columns)\n",
        "print(merged_df.head())"
      ]
    },
    {
      "cell_type": "code",
      "execution_count": 107,
      "metadata": {
        "colab": {
          "base_uri": "https://localhost:8080/"
        },
        "id": "iNYqzR8t8rBo",
        "outputId": "b4f02d02-dc08-4e42-af06-a875454fe15e"
      },
      "outputs": [
        {
          "name": "stdout",
          "output_type": "stream",
          "text": [
            "Index(['level_0', 'index_x', 'date', 'Close_^IXIC', 'Volume_^IXIC', 'MA_5',\n",
            "       'MA_20', 'RSI', 'OBV', 'Volatility', 'Lag1_Return', 'Next_Day_Up',\n",
            "       'index_y', 'TweetID', 'Weekday', 'Hour', 'Day', 'Lang', 'IsReshare',\n",
            "       'Reach', 'RetweetCount', 'Likes', 'Klout', 'Sentiment', 'text',\n",
            "       'LocationID', 'UserID', 'Month', 'timestamp'],\n",
            "      dtype='object')\n"
          ]
        }
      ],
      "source": [
        "print(merged_df.columns)\n",
        "\n",
        "merged_df = merged_df.dropna()\n",
        "\n",
        "# Features and target\n",
        "X = merged_df[['Sentiment']].values\n",
        "y = merged_df['Next_Day_Up'].values # the next day NASDAQ prices (to compare with yesterday's tweets)\n",
        "\n",
        "# Train/test split\n",
        "from sklearn.model_selection import train_test_split\n",
        "\n",
        "X_train, X_test, y_train, y_test = train_test_split(X, y, stratify=y, test_size=0.3, random_state=42)"
      ]
    },
    {
      "cell_type": "code",
      "execution_count": 111,
      "metadata": {
        "colab": {
          "base_uri": "https://localhost:8080/"
        },
        "id": "gl8Jj1KKuvcR",
        "outputId": "789564d4-cfcf-4c1a-c5b4-4938b0036edb"
      },
      "outputs": [
        {
          "name": "stdout",
          "output_type": "stream",
          "text": [
            "KNN Classification Report (NASDAQ via Twitter Sentiment):\n",
            "              precision    recall  f1-score   support\n",
            "\n",
            "          Up       0.37      0.01      0.01      5130\n",
            "        Down       0.68      0.99      0.81     10919\n",
            "\n",
            "    accuracy                           0.68     16049\n",
            "   macro avg       0.53      0.50      0.41     16049\n",
            "weighted avg       0.58      0.68      0.55     16049\n",
            "\n"
          ]
        }
      ],
      "source": [
        "import numpy as np\n",
        "from sklearn.model_selection import train_test_split, GridSearchCV\n",
        "from sklearn.preprocessing import StandardScaler\n",
        "from sklearn.metrics import classification_report\n",
        "from sklearn.neighbors import KNeighborsClassifier\n",
        "\n",
        "# scale data\n",
        "scaler = StandardScaler()\n",
        "X_train_scaled = scaler.fit_transform(X_train)\n",
        "X_test_scaled = scaler.transform(X_test)\n",
        "\n",
        "# KNN Classifier\n",
        "knn = KNeighborsClassifier()\n",
        "param_grid = {'n_neighbors': [3, 5, 7]}\n",
        "grid_knn = GridSearchCV(knn, param_grid, scoring='f1', cv=5)\n",
        "grid_knn.fit(X_train_scaled, y_train)\n",
        "\n",
        "y_pred = grid_knn.predict(X_test_scaled)\n",
        "print(\"KNN Classification Report (NASDAQ via Twitter Sentiment):\")\n",
        "print(classification_report(y_test, y_pred, target_names=['Up', 'Down']))\n"
      ]
    },
    {
      "cell_type": "code",
      "execution_count": null,
      "metadata": {
        "colab": {
          "base_uri": "https://localhost:8080/"
        },
        "id": "SVZ9ZZvE8ff5",
        "outputId": "5d41ddb6-5e2c-4eba-eb1b-1256f3bb64e2"
      },
      "outputs": [
        {
          "name": "stdout",
          "output_type": "stream",
          "text": [
            "GMM Classifier Report:\n",
            "              precision    recall  f1-score   support\n",
            "\n",
            "          Up       0.33      0.69      0.44      5130\n",
            "        Down       0.70      0.34      0.46     10919\n",
            "\n",
            "    accuracy                           0.45     16049\n",
            "   macro avg       0.51      0.51      0.45     16049\n",
            "weighted avg       0.58      0.45      0.45     16049\n",
            "\n",
            "GMM Results:\n",
            "Confusion Matrix:\n",
            "[[3518 1612]\n",
            " [7185 3734]]\n",
            "Accuracy: 0.4519\n",
            "Precision: 0.6985\n",
            "Recall: 0.3420\n",
            "F1-Score: 0.4591\n",
            "\n"
          ]
        }
      ],
      "source": [
        "# GMM Classifier\n",
        "def multivariate_gaussian(x, mean, cov):\n",
        "    d = x.shape[1]\n",
        "    cov_inv = np.linalg.inv(cov + 1e-6 * np.eye(d))  # Add small value to diagonal for stability\n",
        "    diff = x - mean\n",
        "    exp_term = np.exp(-0.5 * np.sum(diff @ cov_inv * diff, axis=1))\n",
        "    norm_factor = np.sqrt((2 * np.pi)**d * np.linalg.det(cov + 1e-6 * np.eye(d)))\n",
        "    return exp_term / norm_factor\n",
        "\n",
        "\n",
        "class GMMClassifier:\n",
        "    def __init__(self, max_iter=10):\n",
        "        self.max_iter = max_iter\n",
        "\n",
        "    def fit(self, X, y):\n",
        "        n_samples = X.shape[0]\n",
        "        labels = np.zeros(n_samples, dtype=int)\n",
        "        labels[:n_samples//2] = 0\n",
        "        labels[n_samples//2:] = 1\n",
        "        rho = 0.5\n",
        "\n",
        "        for _ in range(self.max_iter):\n",
        "            self.mu0 = np.mean(X[labels == 0], axis=0, keepdims=True)\n",
        "            self.mu1 = np.mean(X[labels == 1], axis=0, keepdims=True)\n",
        "            self.sigma0 = np.cov(X[labels == 0].T)\n",
        "            self.sigma1 = np.cov(X[labels == 1].T)\n",
        "\n",
        "            likelihood0 = multivariate_gaussian(X, self.mu0, self.sigma0)\n",
        "            likelihood1 = multivariate_gaussian(X, self.mu1, self.sigma1)\n",
        "\n",
        "            gamma0 = likelihood0 * rho\n",
        "            gamma1 = likelihood1 * (1 - rho)\n",
        "            total_gamma = gamma0 + gamma1\n",
        "            gamma0 /= total_gamma + 1e-10\n",
        "            gamma1 /= total_gamma + 1e-10\n",
        "\n",
        "            labels = np.where(gamma0 > gamma1, 0, 1)\n",
        "            N0 = np.sum(gamma0)\n",
        "            N1 = np.sum(gamma1)\n",
        "            rho = N0 / n_samples\n",
        "\n",
        "        self.rho = rho\n",
        "\n",
        "\n",
        "    def predict(self, X):\n",
        "        likelihood0 = multivariate_gaussian(X, self.mu0, self.sigma0)\n",
        "        likelihood1 = multivariate_gaussian(X, self.mu1, self.sigma1)\n",
        "        posterior0 = likelihood0 * self.rho\n",
        "        posterior1 = likelihood1 * (1 - self.rho)\n",
        "        return np.where(posterior0 > posterior1, 0, 1)\n",
        "\n",
        "gmm = GMMClassifier(max_iter=10)\n",
        "gmm.fit(X_train_scaled, y_train)\n",
        "y_pred_gmm = gmm.predict(X_test_scaled)\n",
        "\n",
        "cm_gmm = confusion_matrix(y_test, y_pred_gmm)\n",
        "accuracy_gmm = accuracy_score(y_test, y_pred_gmm)\n",
        "precision_gmm = precision_score(y_test, y_pred_gmm, zero_division=0)\n",
        "recall_gmm = recall_score(y_test, y_pred_gmm, zero_division=0)\n",
        "f1_gmm = f1_score(y_test, y_pred_gmm, zero_division=0)\n",
        "\n",
        "\n",
        "print(\"GMM Classifier Report:\")\n",
        "print(classification_report(y_test, y_pred_gmm, target_names=['Up', 'Down']))\n",
        "\n",
        "\n",
        "print(\"GMM Results:\")\n",
        "print(\"Confusion Matrix:\")\n",
        "print(cm_gmm)\n",
        "print(f\"Accuracy: {accuracy_gmm:.4f}\")\n",
        "print(f\"Precision: {precision_gmm:.4f}\")\n",
        "print(f\"Recall: {recall_gmm:.4f}\")\n",
        "print(f\"F1-Score: {f1_gmm:.4f}\\n\")"
      ]
    },
    {
      "cell_type": "code",
      "execution_count": 113,
      "metadata": {
        "colab": {
          "base_uri": "https://localhost:8080/",
          "height": 407
        },
        "id": "DslwIQul9F70",
        "outputId": "6e82ce8e-5d4d-4d06-f4f4-5f9b26dcb938"
      },
      "outputs": [
        {
          "data": {
            "image/png": "[encoded data removed]",
            "text/plain": [
              "<Figure size 600x400 with 1 Axes>"
            ]
          },
          "metadata": {},
          "output_type": "display_data"
        }
      ],
      "source": [
        "# Visualize Confusion Matrix for GMM\n",
        "plt.figure(figsize=(6, 4))\n",
        "sns.heatmap(cm_gmm, annot=True, fmt='d', cmap='Blues', cbar=False,\n",
        "            xticklabels=['Predicted Up', 'Predicted Down'],\n",
        "            yticklabels=['Actual Up', 'Actual Down'])\n",
        "plt.title(\"Confusion Matrix (GMM)\")\n",
        "plt.xlabel(\"Predicted\")\n",
        "plt.ylabel(\"Actual\")\n",
        "plt.tight_layout()\n",
        "plt.savefig('confusion_matrix_nasdaq_GMM.png')\n",
        "plt.show()"
      ]
    },
    {
      "cell_type": "code",
      "execution_count": null,
      "metadata": {
        "colab": {
          "base_uri": "https://localhost:8080/"
        },
        "id": "a0aJxUtM9lxm",
        "outputId": "3e360799-0de7-4667-fb4c-6966b3b66cb1"
      },
      "outputs": [
        {
          "name": "stdout",
          "output_type": "stream",
          "text": [
            "KNN Results (Best k = 9 ):\n",
            "Confusion Matrix:\n",
            "[[   38  5092]\n",
            " [   57 10862]]\n",
            "Accuracy: 0.6792\n",
            "Precision: 0.6808\n",
            "Recall: 0.9948\n",
            "F1-Score: 0.8084\n",
            "\n",
            "KNN (best k=9) Report:\n",
            "              precision    recall  f1-score   support\n",
            "\n",
            "          Up       0.40      0.01      0.01      5130\n",
            "        Down       0.68      0.99      0.81     10919\n",
            "\n",
            "    accuracy                           0.68     16049\n",
            "   macro avg       0.54      0.50      0.41     16049\n",
            "weighted avg       0.59      0.68      0.55     16049\n",
            "\n"
          ]
        }
      ],
      "source": [
        "# KNN Classifier with Tuning\n",
        "param_grid = {'n_neighbors': [3, 5, 7, 9, 11]}\n",
        "knn = KNeighborsClassifier(weights='distance')\n",
        "grid_search_knn = GridSearchCV(knn, param_grid, cv=5, scoring='f1')\n",
        "grid_search_knn.fit(X_train_scaled, y_train)\n",
        "best_knn = grid_search_knn.best_estimator_\n",
        "y_pred_knn = best_knn.predict(X_test_scaled)\n",
        "\n",
        "cm_knn = confusion_matrix(y_test, y_pred_knn)\n",
        "accuracy_knn = accuracy_score(y_test, y_pred_knn)\n",
        "precision_knn = precision_score(y_test, y_pred_knn, zero_division=0)\n",
        "recall_knn = recall_score(y_test, y_pred_knn, zero_division=0)\n",
        "f1_knn = f1_score(y_test, y_pred_knn, zero_division=0)\n",
        "\n",
        "print(\"KNN Results (Best k =\", grid_search_knn.best_params_['n_neighbors'], \"):\")\n",
        "print(\"Confusion Matrix:\")\n",
        "print(cm_knn)\n",
        "print(f\"Accuracy: {accuracy_knn:.4f}\")\n",
        "print(f\"Precision: {precision_knn:.4f}\")\n",
        "print(f\"Recall: {recall_knn:.4f}\")\n",
        "print(f\"F1-Score: {f1_knn:.4f}\\n\")\n",
        "\n",
        "knn = KNeighborsClassifier(weights='distance')\n",
        "param_grid = {'n_neighbors': [3, 5, 7, 9]}\n",
        "grid_knn = GridSearchCV(knn, param_grid, scoring='f1', cv=5)\n",
        "grid_knn.fit(X_train_scaled, y_train)\n",
        "y_pred_knn = grid_knn.predict(X_test_scaled)\n",
        "\n",
        "print(f\"KNN (best k={grid_knn.best_params_['n_neighbors']}) Report:\")\n",
        "print(classification_report(y_test, y_pred_knn, target_names=['Up', 'Down']))"
      ]
    },
    {
      "cell_type": "code",
      "execution_count": 119,
      "metadata": {
        "colab": {
          "base_uri": "https://localhost:8080/",
          "height": 407
        },
        "id": "RBf1K1DR90yv",
        "outputId": "3cb3af78-9f38-424b-9685-09ee606b85aa"
      },
      "outputs": [
        {
          "data": {
            "image/png": "[encoded data removed]",
            "text/plain": [
              "<Figure size 600x400 with 1 Axes>"
            ]
          },
          "metadata": {},
          "output_type": "display_data"
        }
      ],
      "source": [
        "# Visualize Confusion Matrix for KNN\n",
        "plt.figure(figsize=(6, 4))\n",
        "sns.heatmap(cm_knn, annot=True, fmt='d', cmap='Blues', cbar=False,\n",
        "            xticklabels=['Predicted Up', 'Predicted Down'],\n",
        "            yticklabels=['Actual Up', 'Actual Down'])\n",
        "plt.title(\"Confusion Matrix (KNN)\")\n",
        "plt.xlabel(\"Predicted\")\n",
        "plt.ylabel(\"Actual\")\n",
        "plt.tight_layout()\n",
        "plt.savefig('confusion_matrix_nasdaq_KNN.png')\n",
        "plt.show()"
      ]
    },
    {
      "cell_type": "code",
      "execution_count": null,
      "metadata": {
        "colab": {
          "base_uri": "https://localhost:8080/"
        },
        "id": "FCNjTQCrIjGK",
        "outputId": "1a61d43d-bd2c-42eb-871f-62a01775b459"
      },
      "outputs": [
        {
          "name": "stdout",
          "output_type": "stream",
          "text": [
            "Epoch 500/5000, Loss: 0.4251\n",
            "Epoch 1000/5000, Loss: 0.4023\n",
            "Epoch 1500/5000, Loss: 0.3798\n",
            "Epoch 2000/5000, Loss: 0.3561\n",
            "Epoch 2500/5000, Loss: 0.3306\n",
            "Epoch 3000/5000, Loss: 0.3095\n",
            "Epoch 3500/5000, Loss: 0.3032\n",
            "Epoch 4000/5000, Loss: 0.3026\n",
            "Epoch 4500/5000, Loss: 0.3024\n",
            "Epoch 5000/5000, Loss: 0.3023\n",
            "Neural Network Results:\n",
            "Confusion Matrix:\n",
            "[[4151  979]\n",
            " [8672 2247]]\n",
            "Accuracy: 0.3987\n",
            "Precision: 0.6965\n",
            "Recall: 0.2058\n",
            "F1-Score: 0.3177\n",
            "\n",
            "Epoch 500/3000, Loss: 0.3017\n",
            "Epoch 1000/3000, Loss: 0.3014\n",
            "Epoch 1500/3000, Loss: 0.3014\n",
            "Epoch 2000/3000, Loss: 0.3014\n",
            "Epoch 2500/3000, Loss: 0.3014\n",
            "Epoch 3000/3000, Loss: 0.3014\n",
            "Neural Network Report:\n",
            "              precision    recall  f1-score   support\n",
            "\n",
            "          Up       0.33      0.72      0.45      5130\n",
            "        Down       0.70      0.31      0.43     10919\n",
            "\n",
            "    accuracy                           0.44     16049\n",
            "   macro avg       0.52      0.52      0.44     16049\n",
            "weighted avg       0.58      0.44      0.44     16049\n",
            "\n"
          ]
        }
      ],
      "source": [
        "# Improved Neural Network\n",
        "def sigmoid(x):\n",
        "    return 1 / (1 + np.exp(-np.clip(x, -500, 500)))\n",
        "\n",
        "def sigmoid_derivative(x):\n",
        "    s = sigmoid(x)\n",
        "    return s * (1 - s) + 1e-9\n",
        "\n",
        "def relu(x):\n",
        "    return np.maximum(0, x)\n",
        "\n",
        "def relu_derivative(x):\n",
        "    return np.where(x > 0, 1, 0)\n",
        "\n",
        "class NeuralNetwork:\n",
        "    def __init__(self, input_size, hidden_size, output_size, learning_rate=0.01):\n",
        "        self.W1 = np.random.randn(input_size, hidden_size) * np.sqrt(2.0 / input_size)\n",
        "        self.b1 = np.zeros((1, hidden_size))\n",
        "        self.W2 = np.random.randn(hidden_size, output_size) * np.sqrt(2.0 / hidden_size)\n",
        "        self.b2 = np.zeros((1, output_size))\n",
        "        self.learning_rate = learning_rate\n",
        "\n",
        "    def forward(self, X):\n",
        "        self.z1 = np.dot(X, self.W1) + self.b1\n",
        "        self.a1 = relu(self.z1)\n",
        "        self.z2 = np.dot(self.a1, self.W2) + self.b2\n",
        "        self.a2 = sigmoid(self.z2)\n",
        "        return self.a2\n",
        "\n",
        "    def backward(self, X, y, output, class_weights):\n",
        "        m = X.shape[0]\n",
        "        y = y.reshape(-1, 1)\n",
        "        sample_weights = np.array([class_weights[int(label)] for label in y.flatten()]).reshape(-1, 1)\n",
        "\n",
        "        self.error = (output - y) * sample_weights\n",
        "        self.d_output = self.error * sigmoid_derivative(self.z2)\n",
        "        self.error_hidden = np.dot(self.d_output, self.W2.T)\n",
        "        self.d_hidden = self.error_hidden * relu_derivative(self.z1)\n",
        "\n",
        "        self.W2 -= self.learning_rate * np.dot(self.a1.T, self.d_output) / m\n",
        "        self.b2 -= self.learning_rate * np.sum(self.d_output, axis=0, keepdims=True) / m\n",
        "        self.W1 -= self.learning_rate * np.dot(X.T, self.d_hidden) / m\n",
        "        self.b1 -= self.learning_rate * np.sum(self.d_hidden, axis=0, keepdims=True) / m\n",
        "\n",
        "    def train(self, X, y, epochs, class_weights):\n",
        "        for epoch in range(epochs):\n",
        "            output = self.forward(X)\n",
        "            self.backward(X, y, output, class_weights)\n",
        "            sample_weights = np.array([class_weights[int(label)] for label in y.flatten()]).reshape(-1, 1)\n",
        "            loss = -np.mean(sample_weights * (y.reshape(-1, 1) * np.log(output + 1e-9) +\n",
        "                                              (1 - y.reshape(-1, 1)) * np.log(1 - output + 1e-9)))\n",
        "            if (epoch + 1) % 500 == 0:\n",
        "                print(f\"Epoch {epoch + 1}/{epochs}, Loss: {loss:.4f}\")\n",
        "\n",
        "    def predict(self, X):\n",
        "        output = self.forward(X)\n",
        "        return (output > 0.5).astype(int)\n",
        "\n",
        "# Train Neural Network\n",
        "input_size = X_train_scaled.shape[1]  # Now 6 features\n",
        "hidden_size = 16\n",
        "output_size = 1\n",
        "nn = NeuralNetwork(input_size, hidden_size, output_size, learning_rate=0.01)\n",
        "nn.train(X_train_scaled, y_train, epochs=5000, class_weights=class_weights)\n",
        "y_pred_nn = nn.predict(X_test_scaled).flatten()\n",
        "\n",
        "cm_nn = confusion_matrix(y_test, y_pred_nn)\n",
        "accuracy_nn = accuracy_score(y_test, y_pred_nn)\n",
        "precision_nn = precision_score(y_test, y_pred_nn, zero_division=0)\n",
        "recall_nn = recall_score(y_test, y_pred_nn, zero_division=0)\n",
        "f1_nn = f1_score(y_test, y_pred_nn, zero_division=0)\n",
        "\n",
        "print(\"Neural Network Results:\")\n",
        "print(\"Confusion Matrix:\")\n",
        "print(cm_nn)\n",
        "print(f\"Accuracy: {accuracy_nn:.4f}\")\n",
        "print(f\"Precision: {precision_nn:.4f}\")\n",
        "print(f\"Recall: {recall_nn:.4f}\")\n",
        "print(f\"F1-Score: {f1_nn:.4f}\\n\")\n",
        "\n",
        "\n",
        "\n",
        "nn = NeuralNetwork(input_size=X_train_scaled.shape[1], hidden_size=12, output_size=1)\n",
        "nn.train(X_train_scaled, y_train, epochs=3000, class_weights=class_weights)\n",
        "y_pred_nn = nn.predict(X_test_scaled).flatten()\n",
        "\n",
        "print(\"Neural Network Report:\")\n",
        "print(classification_report(y_test, y_pred_nn, target_names=['Up', 'Down']))"
      ]
    },
    {
      "cell_type": "code",
      "execution_count": null,
      "metadata": {
        "colab": {
          "base_uri": "https://localhost:8080/",
          "height": 476
        },
        "id": "MGchmJYw-5XS",
        "outputId": "265a8ef4-1f87-4fd3-c99b-d330603ce935"
      },
      "outputs": [
        {
          "data": {
            "image/png": "[encoded data removed]",
            "text/plain": [
              "<Figure size 600x400 with 1 Axes>"
            ]
          },
          "metadata": {},
          "output_type": "display_data"
        },
        {
          "name": "stdout",
          "output_type": "stream",
          "text": [
            "Summary of Results:\n",
            "GMM - Accuracy: 0.4519, F1-Score: 0.4591\n",
            "KNN - Accuracy: 0.6792, F1-Score: 0.8084\n",
            "Neural Network - Accuracy: 0.3987, F1-Score: 0.3177\n"
          ]
        }
      ],
      "source": [
        "# Visualize Confusion Matrix for Neural Network\n",
        "plt.figure(figsize=(6, 4))\n",
        "sns.heatmap(cm_nn, annot=True, fmt='d', cmap='Blues', cbar=False,\n",
        "            xticklabels=['Predicted Up', 'Predicted Down'],\n",
        "            yticklabels=['Actual Up', 'Actual Down'])\n",
        "plt.title(\"Confusion Matrix (Neural Network)\")\n",
        "plt.xlabel(\"Predicted\")\n",
        "plt.ylabel(\"Actual\")\n",
        "plt.tight_layout()\n",
        "plt.savefig('confusion_matrix_nasdaq_nn.png')\n",
        "plt.show()\n",
        "\n",
        "# Summary of Results\n",
        "print(\"Summary of Results:\")\n",
        "print(f\"GMM - Accuracy: {accuracy_gmm:.4f}, F1-Score: {f1_gmm:.4f}\")\n",
        "print(f\"KNN - Accuracy: {accuracy_knn:.4f}, F1-Score: {f1_knn:.4f}\")\n",
        "print(f\"Neural Network - Accuracy: {accuracy_nn:.4f}, F1-Score: {f1_nn:.4f}\")"
      ]
    }
  ],
  "metadata": {
    "colab": {
      "provenance": []
    },
    "kernelspec": {
      "display_name": "Python 3",
      "name": "python3"
    },
    "language_info": {
      "name": "python"
    }
  },
  "nbformat": 4,
  "nbformat_minor": 0
}
